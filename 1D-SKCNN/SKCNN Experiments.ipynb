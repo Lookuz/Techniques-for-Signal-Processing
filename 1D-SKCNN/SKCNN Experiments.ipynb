{
 "cells": [
  {
   "cell_type": "code",
   "execution_count": 1,
   "id": "5287f84c",
   "metadata": {},
   "outputs": [],
   "source": [
    "import numpy as np\n",
    "import torch\n",
    "from torch import nn\n",
    "from torch import optim\n",
    "\n",
    "from models import SelectiveKernel, SKCNNBlock, SKCNN\n",
    "from preprocess import preprocess"
   ]
  },
  {
   "cell_type": "code",
   "execution_count": 2,
   "id": "374ba8d4",
   "metadata": {},
   "outputs": [],
   "source": [
    "# Data parameters\n",
    "W = 50000 # Max length of input vector\n",
    "C_in = 1 # Input number of channels\n",
    "num_classes = 11 # Number of radar emitter types\n",
    "sk_block_params = [ # Selective Kernel block parameters\n",
    "{\n",
    "    'C_out' : 16,\n",
    "    'kernels' : [9, 16],\n",
    "    'fc_shared_sizes' : [16],\n",
    "    'fc_indep_sizes' : [],\n",
    "    'activation_fn' : nn.ReLU,\n",
    "    'pooling_size' : 7,\n",
    "    'stride' : 7\n",
    "},\n",
    "{\n",
    "    'C_out' : 32,\n",
    "    'kernels' : [9, 16],\n",
    "    'fc_shared_sizes' : [32],\n",
    "    'fc_indep_sizes' : [],\n",
    "    'activation_fn' : nn.ReLU,\n",
    "    'pooling_size' : 7,\n",
    "    'stride' : 7\n",
    "},\n",
    "{\n",
    "    'C_out' : 64,\n",
    "    'kernels' : [9, 16],\n",
    "    'fc_shared_sizes' : [64],\n",
    "    'fc_indep_sizes' : [],\n",
    "    'activation_fn' : nn.ReLU,\n",
    "    'pooling_size' : 7,\n",
    "    'stride' : 7\n",
    "},\n",
    "{\n",
    "    'C_out' : 128,\n",
    "    'kernels' : [9, 16],\n",
    "    'fc_shared_sizes' : [128],\n",
    "    'fc_indep_sizes' : [],\n",
    "    'activation_fn' : nn.ReLU,\n",
    "    'pooling_size' : 7,\n",
    "    'stride' : 7\n",
    "}\n",
    "]\n",
    "fc_block_sizes=[512] # Fully Connected Layer parameters"
   ]
  },
  {
   "cell_type": "code",
   "execution_count": 3,
   "id": "a0da0acf",
   "metadata": {},
   "outputs": [],
   "source": [
    "# Example input - Replace with respective data processing pipeline\n",
    "x = torch.rand(1, C_in, W)"
   ]
  },
  {
   "cell_type": "markdown",
   "id": "97d72917",
   "metadata": {},
   "source": [
    "# 1-D Convolutional Neural Networks for Intrapulse Modulation\n",
    "\n",
    "The 1D CNN network for classification of intrapulse signals follows from the work in \\url[Intra-Pulse Modulation Classification of Radar Emitter Signals Based on a 1-D Selective Kernel Convolutional Neural Network](https://www.mdpi.com/2072-4292/13/14/2799/htm) is explored in this notebook. Following the author's work, the network consists of 4 blocks that comprises of a Selective Kernel Convolutional layer, a max-pooling layer and a batch normalisation layer. "
   ]
  },
  {
   "cell_type": "code",
   "execution_count": 4,
   "id": "e097400a",
   "metadata": {},
   "outputs": [
    {
     "data": {
      "text/plain": [
       "SKCNN(\n",
       "  (skcnn_blocks): Sequential(\n",
       "    (0): SKCNNBlock(\n",
       "      (selective_kernel): SelectiveKernel(\n",
       "        (activation_fn): ReLU()\n",
       "        (softmax): Softmax(dim=0)\n",
       "        (conv_layers): ModuleList(\n",
       "          (0): Conv1d(1, 16, kernel_size=(9,), stride=(1,), padding=same)\n",
       "          (1): Conv1d(1, 16, kernel_size=(16,), stride=(1,), padding=same)\n",
       "        )\n",
       "        (mlp): ModuleList(\n",
       "          (0): Linear(in_features=16, out_features=16, bias=True)\n",
       "        )\n",
       "        (output_heads): ModuleList(\n",
       "          (0): Sequential(\n",
       "            (0): Linear(in_features=16, out_features=16, bias=True)\n",
       "          )\n",
       "          (1): Sequential(\n",
       "            (0): Linear(in_features=16, out_features=16, bias=True)\n",
       "          )\n",
       "        )\n",
       "      )\n",
       "      (max_pooling): MaxPool1d(kernel_size=7, stride=7, padding=0, dilation=1, ceil_mode=False)\n",
       "      (batch_norm): BatchNorm1d(16, eps=1e-05, momentum=0.1, affine=True, track_running_stats=True)\n",
       "    )\n",
       "    (1): SKCNNBlock(\n",
       "      (selective_kernel): SelectiveKernel(\n",
       "        (activation_fn): ReLU()\n",
       "        (softmax): Softmax(dim=0)\n",
       "        (conv_layers): ModuleList(\n",
       "          (0): Conv1d(16, 32, kernel_size=(9,), stride=(1,), padding=same)\n",
       "          (1): Conv1d(16, 32, kernel_size=(16,), stride=(1,), padding=same)\n",
       "        )\n",
       "        (mlp): ModuleList(\n",
       "          (0): Linear(in_features=32, out_features=32, bias=True)\n",
       "        )\n",
       "        (output_heads): ModuleList(\n",
       "          (0): Sequential(\n",
       "            (0): Linear(in_features=32, out_features=32, bias=True)\n",
       "          )\n",
       "          (1): Sequential(\n",
       "            (0): Linear(in_features=32, out_features=32, bias=True)\n",
       "          )\n",
       "        )\n",
       "      )\n",
       "      (max_pooling): MaxPool1d(kernel_size=7, stride=7, padding=0, dilation=1, ceil_mode=False)\n",
       "      (batch_norm): BatchNorm1d(32, eps=1e-05, momentum=0.1, affine=True, track_running_stats=True)\n",
       "    )\n",
       "    (2): SKCNNBlock(\n",
       "      (selective_kernel): SelectiveKernel(\n",
       "        (activation_fn): ReLU()\n",
       "        (softmax): Softmax(dim=0)\n",
       "        (conv_layers): ModuleList(\n",
       "          (0): Conv1d(32, 64, kernel_size=(9,), stride=(1,), padding=same)\n",
       "          (1): Conv1d(32, 64, kernel_size=(16,), stride=(1,), padding=same)\n",
       "        )\n",
       "        (mlp): ModuleList(\n",
       "          (0): Linear(in_features=64, out_features=64, bias=True)\n",
       "        )\n",
       "        (output_heads): ModuleList(\n",
       "          (0): Sequential(\n",
       "            (0): Linear(in_features=64, out_features=64, bias=True)\n",
       "          )\n",
       "          (1): Sequential(\n",
       "            (0): Linear(in_features=64, out_features=64, bias=True)\n",
       "          )\n",
       "        )\n",
       "      )\n",
       "      (max_pooling): MaxPool1d(kernel_size=7, stride=7, padding=0, dilation=1, ceil_mode=False)\n",
       "      (batch_norm): BatchNorm1d(64, eps=1e-05, momentum=0.1, affine=True, track_running_stats=True)\n",
       "    )\n",
       "    (3): SKCNNBlock(\n",
       "      (selective_kernel): SelectiveKernel(\n",
       "        (activation_fn): ReLU()\n",
       "        (softmax): Softmax(dim=0)\n",
       "        (conv_layers): ModuleList(\n",
       "          (0): Conv1d(64, 128, kernel_size=(9,), stride=(1,), padding=same)\n",
       "          (1): Conv1d(64, 128, kernel_size=(16,), stride=(1,), padding=same)\n",
       "        )\n",
       "        (mlp): ModuleList(\n",
       "          (0): Linear(in_features=128, out_features=128, bias=True)\n",
       "        )\n",
       "        (output_heads): ModuleList(\n",
       "          (0): Sequential(\n",
       "            (0): Linear(in_features=128, out_features=128, bias=True)\n",
       "          )\n",
       "          (1): Sequential(\n",
       "            (0): Linear(in_features=128, out_features=128, bias=True)\n",
       "          )\n",
       "        )\n",
       "      )\n",
       "      (max_pooling): MaxPool1d(kernel_size=7, stride=7, padding=0, dilation=1, ceil_mode=False)\n",
       "      (batch_norm): BatchNorm1d(128, eps=1e-05, momentum=0.1, affine=True, track_running_stats=True)\n",
       "    )\n",
       "  )\n",
       "  (fc): Sequential(\n",
       "    (0): Linear(in_features=2560, out_features=512, bias=True)\n",
       "    (1): Linear(in_features=512, out_features=11, bias=True)\n",
       "    (2): Softmax(dim=None)\n",
       "  )\n",
       ")"
      ]
     },
     "execution_count": 4,
     "metadata": {},
     "output_type": "execute_result"
    }
   ],
   "source": [
    "# Initialize SKCNN network\n",
    "skcnn = SKCNN(\n",
    "    W, \n",
    "    C_in,\n",
    "    sk_block_params=sk_block_params,\n",
    "    fc_block_sizes=fc_block_sizes)\n",
    "skcnn"
   ]
  },
  {
   "cell_type": "markdown",
   "id": "fa78090b",
   "metadata": {},
   "source": [
    "### Preprocessing\n",
    "\n",
    "The preprocessing step for input signals is simple and consists of only three steps:\n",
    "1. Zero padding of input signals to ensure fixed length vectors required for the CNN.\n",
    "2. Fast Fourier Transform to convert the signal into frequency domain\n",
    "3. Amplitude normalization to remove effects of large amplitude values on classification"
   ]
  },
  {
   "cell_type": "code",
   "execution_count": 5,
   "id": "48f2d669",
   "metadata": {},
   "outputs": [],
   "source": [
    "# Preprocess data\n",
    "from preprocess import *\n",
    "import torch\n",
    "\n",
    "x_preprocessed = preprocess(x)\n",
    "x_preprocessed = torch.tensor(x_preprocessed)"
   ]
  },
  {
   "cell_type": "code",
   "execution_count": 6,
   "id": "c9820a38",
   "metadata": {},
   "outputs": [
    {
     "name": "stderr",
     "output_type": "stream",
     "text": [
      "/home/lukaz/.local/lib/python3.8/site-packages/torch/nn/modules/conv.py:294: UserWarning: Using padding='same' with even kernel lengths and odd dilation may require a zero-padded copy of the input be created (Triggered internally at  /pytorch/aten/src/ATen/native/Convolution.cpp:660.)\n",
      "  return F.conv1d(input, weight, bias, self.stride,\n",
      "/home/lukaz/.local/lib/python3.8/site-packages/torch/nn/functional.py:652: UserWarning: Named tensors and all their associated APIs are an experimental feature and subject to change. Please do not use them for anything important until they are released as stable. (Triggered internally at  /pytorch/c10/core/TensorImpl.h:1156.)\n",
      "  return torch.max_pool1d(input, kernel_size, stride, padding, dilation, ceil_mode)\n",
      "/home/lukaz/.local/lib/python3.8/site-packages/torch/nn/modules/container.py:139: UserWarning: Implicit dimension choice for softmax has been deprecated. Change the call to include dim=X as an argument.\n",
      "  input = module(input)\n"
     ]
    },
    {
     "data": {
      "text/plain": [
       "tensor([[0.0697, 0.1279, 0.0617, 0.1129, 0.1290, 0.0508, 0.0687, 0.1063, 0.1163,\n",
       "         0.1066, 0.0502]], grad_fn=<SoftmaxBackward>)"
      ]
     },
     "execution_count": 6,
     "metadata": {},
     "output_type": "execute_result"
    }
   ],
   "source": [
    "skcnn(x_preprocessed)"
   ]
  }
 ],
 "metadata": {
  "kernelspec": {
   "display_name": "Python 3 (ipykernel)",
   "language": "python",
   "name": "python3"
  },
  "language_info": {
   "codemirror_mode": {
    "name": "ipython",
    "version": 3
   },
   "file_extension": ".py",
   "mimetype": "text/x-python",
   "name": "python",
   "nbconvert_exporter": "python",
   "pygments_lexer": "ipython3",
   "version": "3.8.10"
  }
 },
 "nbformat": 4,
 "nbformat_minor": 5
}
